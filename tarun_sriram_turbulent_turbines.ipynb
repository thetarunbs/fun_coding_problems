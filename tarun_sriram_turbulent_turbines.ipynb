import pandas as pd
from typing import Tuple

def load_data() -> pd.DataFrame:
    """Loads data from given .csv dataset.
    Merges the two to form a single dataframe

    Returns:
        pd.DataFrame: combined dataset from two .csv files
    """
    df1 = pd.read_csv("2_turbulent_turbines_power.csv")
    df2 = pd.read_csv("2_turbulent_turbines_type.csv")
    df = df1.merge(df2, how="left")
    return df
    
def select_month(df: pd.DataFrame, month: int) -> pd.DataFrame:
    """select a part of the dataframe for a specific month

    Args:
        df (pd.DataFrame): the original dataframe 
        month (int): the month to filter the dataframe

    Raises:
        ValueError: If month argument is not valid

    Returns:
        pd.DataFrame: filtered dataframe with selected month
    """
    if month<1 and month>12:
        raise ValueError("month should be between 1 and 12.") 
    df['datetime'] = pd.to_datetime(df['datetime'])
    df_filtered = df[df['datetime'].dt.month == month]
    return df_filtered
    
def lowest_average_power(df: pd.DataFrame) -> Tuple[str, float]:
    """calculate lowest average power in the dataframe for all turbines.
    return average power and turbine type

    Args:
        df (pd.DataFrame): dataframe with turbine types and power output

    Returns:
        Tuple[str, float]: turbine type and average power
    """
    turbine_types = df['turbine_type'].unique()
    average_power = float("inf")
    turbine_type = turbine_types[0]
    for turbine in turbine_types:
        filtered_df = df[df['turbine_type'] == turbine]
        avg_pow = filtered_df['turbine_power'].mean(skipna=True)
        if avg_pow < average_power:
            average_power = avg_pow
            turbine_type = turbine
            
    return turbine_type, average_power

def highest_failure_ratio(df: pd.DataFrame) -> Tuple[str, float]:
    """calculates highest failure ratio of all turbines in the given data.
    Failure is detected when there is no reading in the power output.
    Failure ratio is number of failures/number of readings

    Args:
        df (pd.DataFrame): dataframe containing turbine power output data

    Returns:
        Tuple[str, float]: turbine type and failure ratio
    """
    turbine_types = df['turbine_type'].unique()
    failure_ratio = -float("inf")
    turbine_type = turbine_types[0]
    for turbine in turbine_types:
        filtered_df = df[df['turbine_type'] == turbine]
        number_of_readings = filtered_df.shape[0]
        number_of_failures = filtered_df['turbine_power'].isna().sum()
        fr = number_of_failures / number_of_readings
        if fr > failure_ratio:
            failure_ratio = fr
            turbine_type = turbine
            
    return turbine_type, failure_ratio
    
def main() -> None:
    MONTH = 3
    df = load_data()
    df_spec = select_month(df, MONTH)
    turbine_model, power = lowest_average_power(df_spec)
    print(f"Lowest Average Power:: model_type: {turbine_model}, average_power_output: {power}")
    turbine_model, failure_ratio = highest_failure_ratio(df)
    print(f"Highest Failure Ratio:: model_type: {turbine_model}, failure_ratio: {failure_ratio}")
    
if __name__=="__main__":
    main()
